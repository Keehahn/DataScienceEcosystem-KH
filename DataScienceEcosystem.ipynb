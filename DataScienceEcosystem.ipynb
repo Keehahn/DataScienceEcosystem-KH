{
 "cells": [
  {
   "cell_type": "markdown",
   "id": "2ff5b0fe-e6ac-4f1c-b74d-541fc463280a",
   "metadata": {
    "tags": []
   },
   "source": [
    "# H1: Data Science Tools and Ecosystem"
   ]
  },
  {
   "cell_type": "markdown",
   "id": "7590992e-384b-4807-ba34-f053d0f4dac9",
   "metadata": {},
   "source": [
    "In this notebook, Data Science Tools and Ecosystem are summarized."
   ]
  },
  {
   "cell_type": "markdown",
   "id": "658bff38-bfcf-4769-a0b6-34ec801774c0",
   "metadata": {},
   "source": [
    "Some of the popular languages that Data Scientists use are:\n",
    "\n",
    "1. Python\n",
    "2. R\n",
    "3. SQL"
   ]
  },
  {
   "cell_type": "markdown",
   "id": "936aeed7-0ae0-476c-955d-57117ce08c89",
   "metadata": {},
   "source": [
    "Some of the commonly used libraries used by Data Scientists include:\n",
    "\n",
    "1. NumPy\n",
    "2. Pandas\n",
    "3. Scikit-learn"
   ]
  },
  {
   "cell_type": "markdown",
   "id": "21901251-5f19-4671-a391-96b9ee04542d",
   "metadata": {},
   "source": [
    "| Data Science Tools |\n",
    "|--------------------|\n",
    "| Jupyter Notebook   |\n",
    "| RStudio            |\n",
    "| VS Code    |"
   ]
  },
  {
   "cell_type": "markdown",
   "id": "f53d1afc-a44c-4c5c-b99f-19469e9ac576",
   "metadata": {},
   "source": [
    "### H3: Below are a few examples of evaluating arithmetic expressions in Python."
   ]
  },
  {
   "cell_type": "code",
   "execution_count": 5,
   "id": "6021da1f-e3f7-4c6c-a73c-a3fbcbb84e7f",
   "metadata": {
    "tags": []
   },
   "outputs": [
    {
     "data": {
      "text/plain": [
       "17"
      ]
     },
     "execution_count": 5,
     "metadata": {},
     "output_type": "execute_result"
    }
   ],
   "source": [
    "(3*4)+5\n",
    "#This a simple arithmetic expression to mutiply then add integers"
   ]
  },
  {
   "cell_type": "code",
   "execution_count": 11,
   "id": "b833f311-6248-4a4f-aaa2-f3952ac837a6",
   "metadata": {
    "tags": []
   },
   "outputs": [
    {
     "data": {
      "text/plain": [
       "3.3333333333333335"
      ]
     },
     "execution_count": 11,
     "metadata": {},
     "output_type": "execute_result"
    }
   ],
   "source": [
    "minutes = 200\n",
    "minph = 60\n",
    "minutes / minph\n",
    "#This will convert 200 minutes to hours by diving by 60"
   ]
  },
  {
   "cell_type": "markdown",
   "id": "0f411b5f-c954-4833-88a3-aae4635f6e9f",
   "metadata": {},
   "source": [
    "**Objectives:**\n",
    "- Simple arithmetic expressions\n",
    "- Minutes to hour conversion\n",
    "- Common libraries used by Data scientist\n",
    "- Popular languages used by Data scientist\n",
    "- Converting a code into a markdown"
   ]
  },
  {
   "cell_type": "markdown",
   "id": "caca5180-fcc6-4169-9305-408c1014fd9f",
   "metadata": {},
   "source": [
    "## Author\n",
    "\n",
    "Kee Hahn"
   ]
  }
 ],
 "metadata": {
  "kernelspec": {
   "display_name": "Python",
   "language": "python",
   "name": "conda-env-python-py"
  },
  "language_info": {
   "codemirror_mode": {
    "name": "ipython",
    "version": 3
   },
   "file_extension": ".py",
   "mimetype": "text/x-python",
   "name": "python",
   "nbconvert_exporter": "python",
   "pygments_lexer": "ipython3",
   "version": "3.7.12"
  }
 },
 "nbformat": 4,
 "nbformat_minor": 5
}
